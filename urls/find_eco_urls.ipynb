{
 "cells": [
  {
   "cell_type": "code",
   "execution_count": 1,
   "id": "initial_id",
   "metadata": {
    "ExecuteTime": {
     "end_time": "2024-08-30T05:01:27.137287Z",
     "start_time": "2024-08-30T05:01:27.121721Z"
    },
    "collapsed": true
   },
   "outputs": [
    {
     "name": "stdout",
     "output_type": "stream",
     "text": [
      "CSV 파일을 JSON으로 변환하여 env_urls.json에 저장했습니다.\n"
     ]
    }
   ],
   "source": [
    "'''\n",
    "csv to json 변환\n",
    "''' \n",
    "import csv\n",
    "import json\n",
    "\n",
    "# CSV 파일 읽기\n",
    "csv_file = 'env_urls.csv'\n",
    "json_file = 'env_urls.json'\n",
    "\n",
    "# CSV 파일을 읽고 JSON 파일로 변환하는 과정\n",
    "data = []\n",
    "with open(csv_file, mode='r', encoding='utf-8') as file:\n",
    "    csv_reader = csv.DictReader(file)\n",
    "    for row in csv_reader:\n",
    "        data.append(row)\n",
    "\n",
    "# JSON 파일로 저장\n",
    "with open(json_file, mode='w', encoding='utf-8') as file:\n",
    "    json.dump(data, file, ensure_ascii=False, indent=4)\n",
    "\n",
    "print(f\"CSV 파일을 JSON으로 변환하여 {json_file}에 저장했습니다.\")"
   ]
  },
  {
   "cell_type": "code",
   "execution_count": null,
   "id": "54d7b58ebcf7504",
   "metadata": {},
   "outputs": [],
   "source": []
  }
 ],
 "metadata": {
  "kernelspec": {
   "display_name": "Python 3",
   "language": "python",
   "name": "python3"
  },
  "language_info": {
   "codemirror_mode": {
    "name": "ipython",
    "version": 2
   },
   "file_extension": ".py",
   "mimetype": "text/x-python",
   "name": "python",
   "nbconvert_exporter": "python",
   "pygments_lexer": "ipython2",
   "version": "2.7.6"
  }
 },
 "nbformat": 4,
 "nbformat_minor": 5
}
