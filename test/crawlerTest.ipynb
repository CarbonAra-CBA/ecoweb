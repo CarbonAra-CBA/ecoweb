{
 "cells": [
  {
   "metadata": {},
   "cell_type": "markdown",
   "source": "# DevTools Protocol 로 네트워크 recieve 정보 가져오기",
   "id": "6f117187fd0fd79d"
  },
  {
   "metadata": {},
   "cell_type": "markdown",
   "source": [
    "# 1) MIMI Type 별 리소스 크기 가져오기 (정확히 타입 구분가능)\n",
    "# 2)encodingDataLength로 리소스 크기 가져오기 "
   ],
   "id": "f0740f6607df5779"
  },
  {
   "metadata": {},
   "cell_type": "markdown",
   "source": "\n",
   "id": "1ecd4b52e7938e8b"
  },
  {
   "metadata": {
    "ExecuteTime": {
     "end_time": "2024-07-31T01:15:21.319805Z",
     "start_time": "2024-07-31T01:15:15.815666Z"
    }
   },
   "cell_type": "code",
   "source": [
    "import chromedriver_autoinstaller\n",
    "from selenium import webdriver\n",
    "from selenium.webdriver.chrome.options import Options\n",
    "import json\n",
    "import time\n",
    "# 크롬 드라이버 자동 설치\n",
    "chromedriver_autoinstaller.install()\n",
    "\n",
    "# 크롬 옵션 설정\n",
    "options = Options()\n",
    "options.set_capability('goog:loggingPrefs', {'performance': 'ALL'})\n",
    "options.add_argument('--headless')  # 브라우저를 표시하지 않고 실행\n",
    "options.add_argument('--disable-web-security')  # CORS 정책 우회 설정\n",
    "options.add_argument('--ignore-certificate-errors')  # SSL 인증서 무시 설정\n",
    "\n",
    "# 드라이버 초기화\n",
    "driver = webdriver.Chrome(options=options)\n",
    "\n",
    "# 네트워크 로그 수집\n",
    "driver.get('https://naver.com')  # 대상 웹사이트로 변경\n",
    "\n",
    "resource_types = {'Document': 0, 'Stylesheet': 0, 'Script': 0, 'Image': 0, 'Media': 0, 'Other': 0}\n",
    "total_size = 0\n",
    "\n",
    "for log in driver.get_log('performance'):\n",
    "    message = json.loads(log[\"message\"])[\"message\"]\n",
    "    if \"Network.responseReceived\" == message[\"method\"]: # event는 log에 method로 기록되어있음\n",
    "        mime_type = message['params']['response']['mimeType'] # MIME 타입\n",
    "        resource_size = message['params']['response']['encodedDataLength'] # encodedDataLength로 리소스 사이즈 가져오기\n",
    "        url = message['params']['response']['url']\n",
    "        \n",
    "        # MIME 타입에 따라 resource_size 리소스 유형을 분류 및 합산\n",
    "        if 'text/html' in mime_type:\n",
    "            resource_types['Document'] += resource_size\n",
    "        elif 'text/css' in mime_type:\n",
    "            resource_types['Stylesheet'] += resource_size\n",
    "        elif 'application/javascript' in mime_type or 'application/x-javascript' in mime_type or 'text/javascript' in mime_type:\n",
    "            resource_types['Script'] += resource_size\n",
    "        elif 'image' in mime_type or ('application/octet-stream' in mime_type and ('.png' in url or '.jpg' in url or '.jpeg' in url or '.gif' in url)):  # 추가 조건\n",
    "            resource_types['Image'] += resource_size\n",
    "        elif 'video' in mime_type or 'audio' in mime_type:\n",
    "            resource_types['Media'] += resource_size\n",
    "        else:\n",
    "            resource_types['Other'] += resource_size\n",
    "        time.sleep(0.1)\n",
    "        total_size += resource_size\n",
    "        print(f\"url: {url}, MIME Type: {mime_type}, Size: {resource_size} bytes\")\n",
    "\n",
    "# 드라이버 종료\n",
    "driver.quit()\n",
    "\n",
    "# 결과 출력\n",
    "print(\"Resource Sizes:\")\n",
    "for resource_type, size in resource_types.items():\n",
    "    print(f\"{resource_type}: {size} bytes\")\n",
    "\n",
    "print(f\"Total Network Size: {total_size} bytes\")\n",
    "\n",
    "# 탄소 배출량 추정 (1GB = 0.06kg CO2)\n",
    "total_size_gb = total_size / (1024 ** 3)\n",
    "carbon_emission = total_size_gb * 0.06\n",
    "print(f\"Estimated Carbon Emission: {carbon_emission:.6f} kg CO2\")\n"
   ],
   "id": "ae8507ca7483203a",
   "outputs": [
    {
     "ename": "PermissionError",
     "evalue": "[Errno 13] Permission denied: 'C:\\\\Users\\\\고병수\\\\AppData\\\\Local\\\\Packages\\\\PythonSoftwareFoundation.Python.3.11_qbz5n2kfra8p0\\\\LocalCache\\\\local-packages\\\\Python311\\\\site-packages\\\\chromedriver_autoinstaller\\\\127\\\\chromedriver.exe'",
     "output_type": "error",
     "traceback": [
      "\u001B[1;31m---------------------------------------------------------------------------\u001B[0m",
      "\u001B[1;31mPermissionError\u001B[0m                           Traceback (most recent call last)",
      "Cell \u001B[1;32mIn[20], line 7\u001B[0m\n\u001B[0;32m      5\u001B[0m \u001B[38;5;28;01mimport\u001B[39;00m \u001B[38;5;21;01mtime\u001B[39;00m\n\u001B[0;32m      6\u001B[0m \u001B[38;5;66;03m# 크롬 드라이버 자동 설치\u001B[39;00m\n\u001B[1;32m----> 7\u001B[0m \u001B[43mchromedriver_autoinstaller\u001B[49m\u001B[38;5;241;43m.\u001B[39;49m\u001B[43minstall\u001B[49m\u001B[43m(\u001B[49m\u001B[43m)\u001B[49m\n\u001B[0;32m      9\u001B[0m \u001B[38;5;66;03m# 크롬 옵션 설정\u001B[39;00m\n\u001B[0;32m     10\u001B[0m options \u001B[38;5;241m=\u001B[39m Options()\n",
      "File \u001B[1;32m~\\AppData\\Local\\Packages\\PythonSoftwareFoundation.Python.3.11_qbz5n2kfra8p0\\LocalCache\\local-packages\\Python311\\site-packages\\chromedriver_autoinstaller\\__init__.py:21\u001B[0m, in \u001B[0;36minstall\u001B[1;34m(cwd, path, no_ssl)\u001B[0m\n\u001B[0;32m     19\u001B[0m \u001B[38;5;28;01mif\u001B[39;00m cwd:\n\u001B[0;32m     20\u001B[0m     path \u001B[38;5;241m=\u001B[39m os\u001B[38;5;241m.\u001B[39mgetcwd()\n\u001B[1;32m---> 21\u001B[0m chromedriver_filepath \u001B[38;5;241m=\u001B[39m \u001B[43mutils\u001B[49m\u001B[38;5;241;43m.\u001B[39;49m\u001B[43mdownload_chromedriver\u001B[49m\u001B[43m(\u001B[49m\u001B[43mpath\u001B[49m\u001B[43m,\u001B[49m\u001B[43m \u001B[49m\u001B[43mno_ssl\u001B[49m\u001B[43m)\u001B[49m\n\u001B[0;32m     22\u001B[0m \u001B[38;5;28;01mif\u001B[39;00m \u001B[38;5;129;01mnot\u001B[39;00m chromedriver_filepath:\n\u001B[0;32m     23\u001B[0m     logging\u001B[38;5;241m.\u001B[39mdebug(\u001B[38;5;124m\"\u001B[39m\u001B[38;5;124mCan not download chromedriver.\u001B[39m\u001B[38;5;124m\"\u001B[39m)\n",
      "File \u001B[1;32m~\\AppData\\Local\\Packages\\PythonSoftwareFoundation.Python.3.11_qbz5n2kfra8p0\\LocalCache\\local-packages\\Python311\\site-packages\\chromedriver_autoinstaller\\utils.py:314\u001B[0m, in \u001B[0;36mdownload_chromedriver\u001B[1;34m(path, no_ssl)\u001B[0m\n\u001B[0;32m    312\u001B[0m             \u001B[38;5;28;01mif\u001B[39;00m os\u001B[38;5;241m.\u001B[39mpath\u001B[38;5;241m.\u001B[39mbasename(zip_info\u001B[38;5;241m.\u001B[39mfilename) \u001B[38;5;241m==\u001B[39m chromedriver_filename:\n\u001B[0;32m    313\u001B[0m                 zip_info\u001B[38;5;241m.\u001B[39mfilename \u001B[38;5;241m=\u001B[39m chromedriver_filename\n\u001B[1;32m--> 314\u001B[0m                 \u001B[43mzip_file\u001B[49m\u001B[38;5;241;43m.\u001B[39;49m\u001B[43mextract\u001B[49m\u001B[43m(\u001B[49m\u001B[43mzip_info\u001B[49m\u001B[43m,\u001B[49m\u001B[43m \u001B[49m\u001B[43mchromedriver_dir\u001B[49m\u001B[43m)\u001B[49m\n\u001B[0;32m    315\u001B[0m                 \u001B[38;5;28;01mbreak\u001B[39;00m\n\u001B[0;32m    316\u001B[0m \u001B[38;5;28;01melse\u001B[39;00m:\n",
      "File \u001B[1;32mC:\\Program Files\\WindowsApps\\PythonSoftwareFoundation.Python.3.11_3.11.2544.0_x64__qbz5n2kfra8p0\\Lib\\zipfile.py:1684\u001B[0m, in \u001B[0;36mZipFile.extract\u001B[1;34m(self, member, path, pwd)\u001B[0m\n\u001B[0;32m   1681\u001B[0m \u001B[38;5;28;01melse\u001B[39;00m:\n\u001B[0;32m   1682\u001B[0m     path \u001B[38;5;241m=\u001B[39m os\u001B[38;5;241m.\u001B[39mfspath(path)\n\u001B[1;32m-> 1684\u001B[0m \u001B[38;5;28;01mreturn\u001B[39;00m \u001B[38;5;28;43mself\u001B[39;49m\u001B[38;5;241;43m.\u001B[39;49m\u001B[43m_extract_member\u001B[49m\u001B[43m(\u001B[49m\u001B[43mmember\u001B[49m\u001B[43m,\u001B[49m\u001B[43m \u001B[49m\u001B[43mpath\u001B[49m\u001B[43m,\u001B[49m\u001B[43m \u001B[49m\u001B[43mpwd\u001B[49m\u001B[43m)\u001B[49m\n",
      "File \u001B[1;32mC:\\Program Files\\WindowsApps\\PythonSoftwareFoundation.Python.3.11_3.11.2544.0_x64__qbz5n2kfra8p0\\Lib\\zipfile.py:1755\u001B[0m, in \u001B[0;36mZipFile._extract_member\u001B[1;34m(self, member, targetpath, pwd)\u001B[0m\n\u001B[0;32m   1751\u001B[0m         os\u001B[38;5;241m.\u001B[39mmkdir(targetpath)\n\u001B[0;32m   1752\u001B[0m     \u001B[38;5;28;01mreturn\u001B[39;00m targetpath\n\u001B[0;32m   1754\u001B[0m \u001B[38;5;28;01mwith\u001B[39;00m \u001B[38;5;28mself\u001B[39m\u001B[38;5;241m.\u001B[39mopen(member, pwd\u001B[38;5;241m=\u001B[39mpwd) \u001B[38;5;28;01mas\u001B[39;00m source, \\\n\u001B[1;32m-> 1755\u001B[0m      \u001B[38;5;28;43mopen\u001B[39;49m\u001B[43m(\u001B[49m\u001B[43mtargetpath\u001B[49m\u001B[43m,\u001B[49m\u001B[43m \u001B[49m\u001B[38;5;124;43m\"\u001B[39;49m\u001B[38;5;124;43mwb\u001B[39;49m\u001B[38;5;124;43m\"\u001B[39;49m\u001B[43m)\u001B[49m \u001B[38;5;28;01mas\u001B[39;00m target:\n\u001B[0;32m   1756\u001B[0m     shutil\u001B[38;5;241m.\u001B[39mcopyfileobj(source, target)\n\u001B[0;32m   1758\u001B[0m \u001B[38;5;28;01mreturn\u001B[39;00m targetpath\n",
      "\u001B[1;31mPermissionError\u001B[0m: [Errno 13] Permission denied: 'C:\\\\Users\\\\고병수\\\\AppData\\\\Local\\\\Packages\\\\PythonSoftwareFoundation.Python.3.11_qbz5n2kfra8p0\\\\LocalCache\\\\local-packages\\\\Python311\\\\site-packages\\\\chromedriver_autoinstaller\\\\127\\\\chromedriver.exe'"
     ]
    }
   ],
   "execution_count": 20
  },
  {
   "metadata": {},
   "cell_type": "code",
   "outputs": [],
   "execution_count": null,
   "source": "",
   "id": "ae7dceec4f92899f"
  },
  {
   "metadata": {},
   "cell_type": "markdown",
   "source": "",
   "id": "4ed75a595e86f777"
  }
 ],
 "metadata": {
  "kernelspec": {
   "display_name": "Python 3",
   "language": "python",
   "name": "python3"
  },
  "language_info": {
   "codemirror_mode": {
    "name": "ipython",
    "version": 2
   },
   "file_extension": ".py",
   "mimetype": "text/x-python",
   "name": "python",
   "nbconvert_exporter": "python",
   "pygments_lexer": "ipython2",
   "version": "2.7.6"
  }
 },
 "nbformat": 4,
 "nbformat_minor": 5
}
