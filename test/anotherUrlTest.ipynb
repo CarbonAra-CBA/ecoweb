{
 "cells": [
  {
   "metadata": {},
   "cell_type": "raw",
   "source": "",
   "id": "a79862275cecac3b"
  },
  {
   "metadata": {},
   "cell_type": "markdown",
   "source": [
    "# 하위 도메인 크롤링 \n",
    "# "
   ],
   "id": "e9b47430d860e4b8"
  },
  {
   "cell_type": "code",
   "id": "initial_id",
   "metadata": {
    "collapsed": true,
    "ExecuteTime": {
     "end_time": "2024-07-31T00:47:56.707689Z",
     "start_time": "2024-07-31T00:47:54.491553Z"
    }
   },
   "source": [
    "from bs4 import BeautifulSoup\n",
    "from urllib.request import urlopen\n",
    "from urllib.parse import urljoin, urlparse\n",
    "import re\n",
    "\n",
    "# 이미 방문한 페이지들을 저장하기 위한 집합\n",
    "pages = set()\n",
    "\n",
    "def getLinks(domain, pageUrl):\n",
    "    global pages\n",
    "    # URL을 조합하여 절대 URL을 만듦\n",
    "    full_url = urljoin(\"http://\" + domain, pageUrl)\n",
    "    \n",
    "    try:\n",
    "        html = urlopen(full_url)\n",
    "    except Exception as e:\n",
    "        print(f\"Error opening {full_url}: {e}\")\n",
    "        return\n",
    "\n",
    "    bs = BeautifulSoup(html, \"html.parser\")\n",
    "    # 모든 a 태그에서 링크를 찾음\n",
    "    for link in bs.find_all(\"a\", href=True):\n",
    "        href = link.attrs['href']\n",
    "        # 절대 URL로 변환\n",
    "        href = urljoin(full_url, href)\n",
    "        # URL을 파싱하여 도메인 검사\n",
    "        parsed_href = urlparse(href)\n",
    "        if domain in parsed_href.netloc and href not in pages:\n",
    "            print(href)\n",
    "            pages.add(href)\n",
    "            # 새로운 페이지로 재귀 호출\n",
    "            getLinks(domain, parsed_href.path)\n",
    "\n",
    "getLinks(\"naver.com\", \"\")\n",
    "print(\"pages\", pages)\n"
   ],
   "outputs": [
    {
     "name": "stdout",
     "output_type": "stream",
     "text": [
      "http://naver.com#topAsideButton\n",
      "http://naver.com#shortcutArea\n",
      "http://naver.com#newsstand\n",
      "http://naver.com#shopping\n",
      "http://naver.com#feed\n",
      "http://naver.com#account\n",
      "http://naver.com#widgetboard\n",
      "http://naver.com#viewSetting\n",
      "pages {'http://naver.com#widgetboard', 'http://naver.com#topAsideButton', 'http://naver.com#shortcutArea', 'http://naver.com#newsstand', 'http://naver.com#shopping', 'http://naver.com#viewSetting', 'http://naver.com#feed', 'http://naver.com#account'}\n"
     ]
    }
   ],
   "execution_count": 2
  },
  {
   "metadata": {
    "ExecuteTime": {
     "end_time": "2024-07-31T01:14:35.878259Z",
     "start_time": "2024-07-31T01:14:34.642732Z"
    }
   },
   "cell_type": "code",
   "source": [
    "from selenium import webdriver\n",
    "from selenium.webdriver.common.by import By\n",
    "from selenium.webdriver.chrome.service import Service\n",
    "from selenium.webdriver.chrome.options import Options\n",
    "from webdriver_manager.chrome import ChromeDriverManager\n",
    "from bs4 import BeautifulSoup\n",
    "from urllib.parse import urljoin\n",
    "import chromedriver_autoinstaller\n",
    "\n",
    "# 크롬 드라이버 자동 설치\n",
    "chromedriver_autoinstaller.install()\n",
    "\n",
    "# 크롬 옵션 설정\n",
    "options = Options()\n",
    "options.set_capability('goog:loggingPrefs', {'performance': 'ALL'})\n",
    "options.add_argument('--headless')  # 브라우저를 표시하지 않고 실행\n",
    "options.add_argument('--disable-web-security')  # CORS 정책 우회 설정\n",
    "options.add_argument('--ignore-certificate-errors')  # SSL 인증서 무시 설정\n",
    "\n",
    "# 크롬 드라이버 설정\n",
    "driver = webdriver.Chrome(options=options)\n",
    "pages = set()\n",
    "\n",
    "def getAllLinks(url,driver):\n",
    "    global pages\n",
    "\n",
    "    # 주어진 URL로 이동\n",
    "    driver.get(url)\n",
    "\n",
    "    # 페이지 소스를 가져와서 BeautifulSoup으로 파싱\n",
    "    html = driver.page_source\n",
    "    bs = BeautifulSoup(html, \"html.parser\")\n",
    "\n",
    "    # 모든 a 태그에서 링크를 찾음\n",
    "    for link in bs.find_all(\"a\", href=True):\n",
    "        href = link.attrs['href']\n",
    "        # 절대 URL로 변환\n",
    "        href = urljoin(url, href)\n",
    "        if href not in pages:\n",
    "            pages.add(href)\n",
    "            print(href)\n",
    "\n",
    "# www.naver.com의 모든 a 태그 링크를 가져옴\n",
    "getAllLinks(\"http://www.naver.com\")\n",
    "print(\"pages\", pages)\n",
    "\n",
    "# 드라이버 종료\n",
    "driver.quit()\n"
   ],
   "id": "502c62ac5dffffb1",
   "outputs": [
    {
     "ename": "PermissionError",
     "evalue": "[Errno 13] Permission denied: 'C:\\\\Users\\\\고병수\\\\AppData\\\\Local\\\\Packages\\\\PythonSoftwareFoundation.Python.3.11_qbz5n2kfra8p0\\\\LocalCache\\\\local-packages\\\\Python311\\\\site-packages\\\\chromedriver_autoinstaller\\\\127\\\\chromedriver.exe'",
     "output_type": "error",
     "traceback": [
      "\u001B[1;31m---------------------------------------------------------------------------\u001B[0m",
      "\u001B[1;31mPermissionError\u001B[0m                           Traceback (most recent call last)",
      "Cell \u001B[1;32mIn[14], line 11\u001B[0m\n\u001B[0;32m      8\u001B[0m \u001B[38;5;28;01mimport\u001B[39;00m \u001B[38;5;21;01mchromedriver_autoinstaller\u001B[39;00m\n\u001B[0;32m     10\u001B[0m \u001B[38;5;66;03m# 크롬 드라이버 자동 설치\u001B[39;00m\n\u001B[1;32m---> 11\u001B[0m \u001B[43mchromedriver_autoinstaller\u001B[49m\u001B[38;5;241;43m.\u001B[39;49m\u001B[43minstall\u001B[49m\u001B[43m(\u001B[49m\u001B[43m)\u001B[49m\n\u001B[0;32m     13\u001B[0m \u001B[38;5;66;03m# 크롬 옵션 설정\u001B[39;00m\n\u001B[0;32m     14\u001B[0m options \u001B[38;5;241m=\u001B[39m Options()\n",
      "File \u001B[1;32m~\\AppData\\Local\\Packages\\PythonSoftwareFoundation.Python.3.11_qbz5n2kfra8p0\\LocalCache\\local-packages\\Python311\\site-packages\\chromedriver_autoinstaller\\__init__.py:21\u001B[0m, in \u001B[0;36minstall\u001B[1;34m(cwd, path, no_ssl)\u001B[0m\n\u001B[0;32m     19\u001B[0m \u001B[38;5;28;01mif\u001B[39;00m cwd:\n\u001B[0;32m     20\u001B[0m     path \u001B[38;5;241m=\u001B[39m os\u001B[38;5;241m.\u001B[39mgetcwd()\n\u001B[1;32m---> 21\u001B[0m chromedriver_filepath \u001B[38;5;241m=\u001B[39m \u001B[43mutils\u001B[49m\u001B[38;5;241;43m.\u001B[39;49m\u001B[43mdownload_chromedriver\u001B[49m\u001B[43m(\u001B[49m\u001B[43mpath\u001B[49m\u001B[43m,\u001B[49m\u001B[43m \u001B[49m\u001B[43mno_ssl\u001B[49m\u001B[43m)\u001B[49m\n\u001B[0;32m     22\u001B[0m \u001B[38;5;28;01mif\u001B[39;00m \u001B[38;5;129;01mnot\u001B[39;00m chromedriver_filepath:\n\u001B[0;32m     23\u001B[0m     logging\u001B[38;5;241m.\u001B[39mdebug(\u001B[38;5;124m\"\u001B[39m\u001B[38;5;124mCan not download chromedriver.\u001B[39m\u001B[38;5;124m\"\u001B[39m)\n",
      "File \u001B[1;32m~\\AppData\\Local\\Packages\\PythonSoftwareFoundation.Python.3.11_qbz5n2kfra8p0\\LocalCache\\local-packages\\Python311\\site-packages\\chromedriver_autoinstaller\\utils.py:314\u001B[0m, in \u001B[0;36mdownload_chromedriver\u001B[1;34m(path, no_ssl)\u001B[0m\n\u001B[0;32m    312\u001B[0m             \u001B[38;5;28;01mif\u001B[39;00m os\u001B[38;5;241m.\u001B[39mpath\u001B[38;5;241m.\u001B[39mbasename(zip_info\u001B[38;5;241m.\u001B[39mfilename) \u001B[38;5;241m==\u001B[39m chromedriver_filename:\n\u001B[0;32m    313\u001B[0m                 zip_info\u001B[38;5;241m.\u001B[39mfilename \u001B[38;5;241m=\u001B[39m chromedriver_filename\n\u001B[1;32m--> 314\u001B[0m                 \u001B[43mzip_file\u001B[49m\u001B[38;5;241;43m.\u001B[39;49m\u001B[43mextract\u001B[49m\u001B[43m(\u001B[49m\u001B[43mzip_info\u001B[49m\u001B[43m,\u001B[49m\u001B[43m \u001B[49m\u001B[43mchromedriver_dir\u001B[49m\u001B[43m)\u001B[49m\n\u001B[0;32m    315\u001B[0m                 \u001B[38;5;28;01mbreak\u001B[39;00m\n\u001B[0;32m    316\u001B[0m \u001B[38;5;28;01melse\u001B[39;00m:\n",
      "File \u001B[1;32mC:\\Program Files\\WindowsApps\\PythonSoftwareFoundation.Python.3.11_3.11.2544.0_x64__qbz5n2kfra8p0\\Lib\\zipfile.py:1684\u001B[0m, in \u001B[0;36mZipFile.extract\u001B[1;34m(self, member, path, pwd)\u001B[0m\n\u001B[0;32m   1681\u001B[0m \u001B[38;5;28;01melse\u001B[39;00m:\n\u001B[0;32m   1682\u001B[0m     path \u001B[38;5;241m=\u001B[39m os\u001B[38;5;241m.\u001B[39mfspath(path)\n\u001B[1;32m-> 1684\u001B[0m \u001B[38;5;28;01mreturn\u001B[39;00m \u001B[38;5;28;43mself\u001B[39;49m\u001B[38;5;241;43m.\u001B[39;49m\u001B[43m_extract_member\u001B[49m\u001B[43m(\u001B[49m\u001B[43mmember\u001B[49m\u001B[43m,\u001B[49m\u001B[43m \u001B[49m\u001B[43mpath\u001B[49m\u001B[43m,\u001B[49m\u001B[43m \u001B[49m\u001B[43mpwd\u001B[49m\u001B[43m)\u001B[49m\n",
      "File \u001B[1;32mC:\\Program Files\\WindowsApps\\PythonSoftwareFoundation.Python.3.11_3.11.2544.0_x64__qbz5n2kfra8p0\\Lib\\zipfile.py:1755\u001B[0m, in \u001B[0;36mZipFile._extract_member\u001B[1;34m(self, member, targetpath, pwd)\u001B[0m\n\u001B[0;32m   1751\u001B[0m         os\u001B[38;5;241m.\u001B[39mmkdir(targetpath)\n\u001B[0;32m   1752\u001B[0m     \u001B[38;5;28;01mreturn\u001B[39;00m targetpath\n\u001B[0;32m   1754\u001B[0m \u001B[38;5;28;01mwith\u001B[39;00m \u001B[38;5;28mself\u001B[39m\u001B[38;5;241m.\u001B[39mopen(member, pwd\u001B[38;5;241m=\u001B[39mpwd) \u001B[38;5;28;01mas\u001B[39;00m source, \\\n\u001B[1;32m-> 1755\u001B[0m      \u001B[38;5;28;43mopen\u001B[39;49m\u001B[43m(\u001B[49m\u001B[43mtargetpath\u001B[49m\u001B[43m,\u001B[49m\u001B[43m \u001B[49m\u001B[38;5;124;43m\"\u001B[39;49m\u001B[38;5;124;43mwb\u001B[39;49m\u001B[38;5;124;43m\"\u001B[39;49m\u001B[43m)\u001B[49m \u001B[38;5;28;01mas\u001B[39;00m target:\n\u001B[0;32m   1756\u001B[0m     shutil\u001B[38;5;241m.\u001B[39mcopyfileobj(source, target)\n\u001B[0;32m   1758\u001B[0m \u001B[38;5;28;01mreturn\u001B[39;00m targetpath\n",
      "\u001B[1;31mPermissionError\u001B[0m: [Errno 13] Permission denied: 'C:\\\\Users\\\\고병수\\\\AppData\\\\Local\\\\Packages\\\\PythonSoftwareFoundation.Python.3.11_qbz5n2kfra8p0\\\\LocalCache\\\\local-packages\\\\Python311\\\\site-packages\\\\chromedriver_autoinstaller\\\\127\\\\chromedriver.exe'"
     ]
    }
   ],
   "execution_count": 14
  },
  {
   "metadata": {},
   "cell_type": "code",
   "outputs": [],
   "execution_count": null,
   "source": "",
   "id": "59d6d236c7ba989a"
  }
 ],
 "metadata": {
  "kernelspec": {
   "display_name": "Python 3",
   "language": "python",
   "name": "python3"
  },
  "language_info": {
   "codemirror_mode": {
    "name": "ipython",
    "version": 2
   },
   "file_extension": ".py",
   "mimetype": "text/x-python",
   "name": "python",
   "nbconvert_exporter": "python",
   "pygments_lexer": "ipython2",
   "version": "2.7.6"
  }
 },
 "nbformat": 4,
 "nbformat_minor": 5
}
