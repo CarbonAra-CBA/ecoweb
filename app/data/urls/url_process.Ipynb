{
 "cells": [
  {
   "cell_type": "code",
   "execution_count": 1,
   "metadata": {},
   "outputs": [
    {
     "name": "stdout",
     "output_type": "stream",
     "text": [
      "CSV 파일을 새로운 컬럼명으로 변환하여 JSON으로 저장했습니다.\n"
     ]
    }
   ],
   "source": [
    "'''\n",
    "csv to json 변환\n",
    "''' \n",
    "import csv\n",
    "import json\n",
    "\n",
    "# 컬럼 매핑 정의\n",
    "column_mapping = {\n",
    "    '기관유형': 'institutionType',\n",
    "    '기관분류': 'institutionCategory',\n",
    "    '상세기관분류': 'institutionSubcategory',\n",
    "    '사이트명': 'siteName',\n",
    "    '사이트 구분': 'siteType',\n",
    "    '사이트링크': 'siteLink'\n",
    "}\n",
    "\n",
    "# CSV 파일 읽기 및 변환\n",
    "data = []\n",
    "with open('korea_public_website_urls.csv', mode='r', encoding='utf-8') as file:\n",
    "    csv_reader = csv.DictReader(file)\n",
    "    for row in csv_reader:\n",
    "        # 새로운 컬럼명으로 데이터 매핑\n",
    "        mapped_row = {column_mapping[k]: v for k, v in row.items()}\n",
    "        data.append(mapped_row)\n",
    "\n",
    "# JSON 파일로 저장\n",
    "with open('korea_public_website_urls.json', mode='w', encoding='utf-8') as file:\n",
    "    json.dump(data, file, ensure_ascii=False, indent=4)\n",
    "\n",
    "print(\"CSV 파일을 새로운 컬럼명으로 변환하여 JSON으로 저장했습니다.\")"
   ]
  },
  {
   "cell_type": "code",
   "execution_count": null,
   "metadata": {},
   "outputs": [],
   "source": [
    "# csv 읽기\n",
    "import pandas as pd\n",
    "\n",
    "# CSV 파일 읽기\n",
    "df = pd.read_csv('flattened_lighthouse_traffic.csv')\n",
    "\n",
    "# URL과 resourceType별로 그룹화하여 평균 계산\n",
    "resource_averages = df.groupby(['url', 'resource_summary.resourceType'])['resource_summary.transferSize'].mean()\n",
    "\n",
    "# 또는 피벗 테이블 형태로 보기 좋게 변환\n",
    "resource_pivot = df.pivot_table(\n",
    "    index='url',\n",
    "    columns='resource_summary.resourceType',\n",
    "    values='resource_summary.transferSize',\n",
    "    aggfunc='mean'\n",
    ")\n",
    "\n",
    "# 결과 출력\n",
    "print(\"\\n=== Resource Type별 평균 전송 크기 ===\")\n",
    "print(resource_pivot)\n",
    "\n",
    "# 전체 URL의 리소스 타입별 평균도 확인하고 싶다면\n",
    "total_averages = df.groupby('resource_summary.resourceType')['resource_summary.transferSize'].mean()\n",
    "print(\"\\n=== 전체 URL의 Resource Type별 평균 ===\")\n",
    "print(total_averages)"
   ]
  }
 ],
 "metadata": {
  "kernelspec": {
   "display_name": "venv",
   "language": "python",
   "name": "python3"
  },
  "language_info": {
   "codemirror_mode": {
    "name": "ipython",
    "version": 3
   },
   "file_extension": ".py",
   "mimetype": "text/x-python",
   "name": "python",
   "nbconvert_exporter": "python",
   "pygments_lexer": "ipython3",
   "version": "3.10.9"
  }
 },
 "nbformat": 4,
 "nbformat_minor": 2
}
