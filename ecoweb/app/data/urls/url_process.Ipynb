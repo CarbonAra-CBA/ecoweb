{
 "cells": [
  {
   "cell_type": "code",
   "execution_count": 1,
   "metadata": {},
   "outputs": [
    {
     "name": "stdout",
     "output_type": "stream",
     "text": [
      "CSV 파일을 새로운 컬럼명으로 변환하여 JSON으로 저장했습니다.\n"
     ]
    }
   ],
   "source": [
    "'''\n",
    "csv to json 변환\n",
    "''' \n",
    "import csv\n",
    "import json\n",
    "\n",
    "# 컬럼 매핑 정의\n",
    "column_mapping = {\n",
    "    '기관유형': 'institutionType',\n",
    "    '기관분류': 'institutionCategory',\n",
    "    '상세기관분류': 'institutionSubcategory',\n",
    "    '사이트명': 'siteName',\n",
    "    '사이트 구분': 'siteType',\n",
    "    '사이트링크': 'siteLink'\n",
    "}\n",
    "\n",
    "# CSV 파일 읽기 및 변환\n",
    "data = []\n",
    "with open('korea_public_website_urls.csv', mode='r', encoding='utf-8') as file:\n",
    "    csv_reader = csv.DictReader(file)\n",
    "    for row in csv_reader:\n",
    "        # 새로운 컬럼명으로 데이터 매핑\n",
    "        mapped_row = {column_mapping[k]: v for k, v in row.items()}\n",
    "        data.append(mapped_row)\n",
    "\n",
    "# JSON 파일로 저장\n",
    "with open('korea_public_website_urls.json', mode='w', encoding='utf-8') as file:\n",
    "    json.dump(data, file, ensure_ascii=False, indent=4)\n",
    "\n",
    "print(\"CSV 파일을 새로운 컬럼명으로 변환하여 JSON으로 저장했습니다.\")"
   ]
  }
 ],
 "metadata": {
  "kernelspec": {
   "display_name": "venv",
   "language": "python",
   "name": "python3"
  },
  "language_info": {
   "codemirror_mode": {
    "name": "ipython",
    "version": 3
   },
   "file_extension": ".py",
   "mimetype": "text/x-python",
   "name": "python",
   "nbconvert_exporter": "python",
   "pygments_lexer": "ipython3",
   "version": "3.10.9"
  }
 },
 "nbformat": 4,
 "nbformat_minor": 2
}
